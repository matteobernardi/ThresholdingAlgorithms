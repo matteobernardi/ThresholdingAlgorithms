{
 "cells": [
  {
   "cell_type": "code",
   "execution_count": 39,
   "metadata": {},
   "outputs": [],
   "source": [
    "from PIL import Image\n",
    "import numpy as np\n",
    "import time"
   ]
  },
  {
   "cell_type": "code",
   "execution_count": 40,
   "metadata": {},
   "outputs": [],
   "source": [
    "def local_adaptive_thresholding(image, window_size, bias):\n",
    "    \"\"\"\n",
    "    Performs local adaptive thresholding on the input image.\n",
    "\n",
    "    Parameters:\n",
    "        image (Image.Image): Grayscale input image (Pillow Image object).\n",
    "        window_size (int): Size of the local window.\n",
    "        bias (float): Bias parameter for threshold adjustment.\n",
    "\n",
    "    Returns:\n",
    "        Image.Image: Thresholded binary image as a Pillow Image object.\n",
    "    \"\"\"\n",
    "    image_array = np.array(image)\n",
    "    height, width = image_array.shape\n",
    "\n",
    "    # Create the integral image\n",
    "    integral_image = np.cumsum(np.cumsum(image_array, axis=0), axis=1)\n",
    "\n",
    "    # Initialize the thresholded image\n",
    "    thresholded_image = np.zeros_like(image_array, dtype=np.uint8)\n",
    "\n",
    "    # Half window size\n",
    "    half_window = window_size // 2\n",
    "\n",
    "    for y in range(height):\n",
    "        for x in range(width):\n",
    "            # Determine the coordinates of the local window\n",
    "            top_left_x = max(0, x - half_window)\n",
    "            top_left_y = max(0, y - half_window)\n",
    "            bottom_right_x = min(width - 1, x + half_window)\n",
    "            bottom_right_y = min(height - 1, y + half_window)\n",
    "\n",
    "            # Compute the local sum using the integral image\n",
    "            local_sum = integral_image[bottom_right_y, bottom_right_x]\n",
    "\n",
    "            if top_left_y > 0:\n",
    "                local_sum -= integral_image[top_left_y - 1, bottom_right_x]\n",
    "            if top_left_x > 0:\n",
    "                local_sum -= integral_image[bottom_right_y, top_left_x - 1]\n",
    "            if top_left_x > 0 and top_left_y > 0:\n",
    "                local_sum += integral_image[top_left_y - 1, top_left_x - 1]\n",
    "\n",
    "            # Calculate the local mean\n",
    "            num_pixels = (bottom_right_x - top_left_x + 1) * (bottom_right_y - top_left_y + 1)\n",
    "            local_mean = local_sum / num_pixels\n",
    "\n",
    "            # Compute the threshold\n",
    "            current_pixel = image_array[y, x]\n",
    "            mean_deviation = current_pixel - local_mean\n",
    "            threshold = local_mean * (1 + bias * ((mean_deviation / (1 - mean_deviation)) - 1))\n",
    "\n",
    "            # Apply the threshold\n",
    "            thresholded_image[y, x] = 0 if current_pixel <= threshold else 255\n",
    "\n",
    "    return Image.fromarray(thresholded_image)"
   ]
  },
  {
   "cell_type": "code",
   "execution_count": 41,
   "metadata": {},
   "outputs": [
    {
     "name": "stdout",
     "output_type": "stream",
     "text": [
      "Tempo di esecuzione: 0.111756 secondi\n"
     ]
    },
    {
     "name": "stderr",
     "output_type": "stream",
     "text": [
      "/var/folders/lj/v6tg1m8x7yxdhfvxfm2kn0000000gn/T/ipykernel_45205/653722541.py:39: RuntimeWarning: overflow encountered in scalar subtract\n",
      "  local_sum -= integral_image[bottom_right_y, top_left_x - 1]\n",
      "/var/folders/lj/v6tg1m8x7yxdhfvxfm2kn0000000gn/T/ipykernel_45205/653722541.py:41: RuntimeWarning: overflow encountered in scalar add\n",
      "  local_sum += integral_image[top_left_y - 1, top_left_x - 1]\n"
     ]
    }
   ],
   "source": [
    "# Specify parameters\n",
    "w = 50\n",
    "k = 0.12\n",
    "\n",
    "# Select sample from dataset\n",
    "sample = \"01\"\n",
    "\n",
    "input_image = Image.open(f\"Dataset/Sample{sample}.png\").convert(\"L\")\n",
    "\n",
    "start_time = time.time()\n",
    "output = local_adaptive_thresholding(input_image, w, k)\n",
    "end_time = time.time()\n",
    "\n",
    "computation_time = end_time - start_time\n",
    "comp_per_pixel = computation_time / (input_image.width * input_image.height)\n",
    "\n",
    "print(f\"Tempo di esecuzione: {computation_time:.6f} secondi\")\n",
    "print(\"Dimensioni:\", output.size)\n",
    "print(\"Modalità:\", output.mode)\n",
    "\n",
    "# output.show()"
   ]
  },
  {
   "cell_type": "code",
   "execution_count": 44,
   "metadata": {},
   "outputs": [],
   "source": [
    "ouput_path = f\"Output/Local/Output{sample}.png\"\n",
    "output.save(ouput_path)\n",
    "\n",
    "with open(f\"Output/Local/Output{sample}_data.txt\", \"w\") as file:\n",
    "    file.write(f\"Dimensioni: {output.size} \\n\")\n",
    "    file.write(f\"Window size: {w}\")\n",
    "    file.write(f\"Bias: {k}\")\n",
    "    file.write(f\"Tempo di esecuzione: {computation_time:.6f} secondi\\n\")\n",
    "    file.write(f\"Tempo di esecuzione per pixel: {comp_per_pixel:.12f} secondi\\n\")\n"
   ]
  }
 ],
 "metadata": {
  "kernelspec": {
   "display_name": "Python 3",
   "language": "python",
   "name": "python3"
  },
  "language_info": {
   "codemirror_mode": {
    "name": "ipython",
    "version": 3
   },
   "file_extension": ".py",
   "mimetype": "text/x-python",
   "name": "python",
   "nbconvert_exporter": "python",
   "pygments_lexer": "ipython3",
   "version": "3.13.1"
  }
 },
 "nbformat": 4,
 "nbformat_minor": 2
}
